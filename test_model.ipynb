{
 "cells": [
  {
   "cell_type": "markdown",
   "metadata": {},
   "source": [
    "# Welcome to Boston!"
   ]
  },
  {
   "cell_type": "code",
   "execution_count": 1,
   "metadata": {},
   "outputs": [],
   "source": [
    "# Import load_boston_model to estimate property prices\n",
    "from load_boston_model import price_estimates"
   ]
  },
  {
   "cell_type": "markdown",
   "metadata": {},
   "source": [
    "### What are your preferances?"
   ]
  },
  {
   "cell_type": "code",
   "execution_count": 2,
   "metadata": {},
   "outputs": [],
   "source": [
    "rooms = int(input('Number of rooms in an house'))\n",
    "near_river = input('Are looking near Charles River (y/n)')\n",
    "if near_river == 'y':\n",
    "    near_river = True\n",
    "else:\n",
    "    near_river = False\n",
    "\n",
    "precision = input('Are you expecting more precise results (y/n)')\n",
    "if precision == 'y':\n",
    "    precision = True\n",
    "else:\n",
    "    precision = False"
   ]
  },
  {
   "cell_type": "markdown",
   "metadata": {},
   "source": [
    "### Evaluating results for you..."
   ]
  },
  {
   "cell_type": "code",
   "execution_count": 3,
   "metadata": {},
   "outputs": [
    {
     "name": "stderr",
     "output_type": "stream",
     "text": [
      "d:\\Anaconda\\lib\\site-packages\\sklearn\\base.py:439: UserWarning: X does not have valid feature names, but LinearRegression was fitted with feature names\n",
      "  warnings.warn(\n"
     ]
    }
   ],
   "source": [
    "students_per_teacher = 21\n",
    "estimate = price_estimates(rooms, students_per_teacher=students_per_teacher, near_river=near_river, scale_down_range=precision)"
   ]
  },
  {
   "cell_type": "markdown",
   "metadata": {},
   "source": [
    "### Here we go!"
   ]
  },
  {
   "cell_type": "code",
   "execution_count": 4,
   "metadata": {},
   "outputs": [
    {
     "name": "stdout",
     "output_type": "stream",
     "text": [
      "You may expect property of 3236520.53 USD\n",
      "Price may vary between 3905941.449 to 2681828.512 USD, approximately.\n"
     ]
    }
   ],
   "source": [
    "print(f'You may expect property of {estimate[0]} USD')\n",
    "print(f'Price may vary between {estimate[1]} to {estimate[2]} USD', end=', ')\n",
    "if precision == True:\n",
    "    print('to be precise.')\n",
    "else:\n",
    "    print('approximately.')"
   ]
  }
 ],
 "metadata": {
  "kernelspec": {
   "display_name": "base",
   "language": "python",
   "name": "python3"
  },
  "language_info": {
   "codemirror_mode": {
    "name": "ipython",
    "version": 3
   },
   "file_extension": ".py",
   "mimetype": "text/x-python",
   "name": "python",
   "nbconvert_exporter": "python",
   "pygments_lexer": "ipython3",
   "version": "3.9.17"
  }
 },
 "nbformat": 4,
 "nbformat_minor": 2
}
